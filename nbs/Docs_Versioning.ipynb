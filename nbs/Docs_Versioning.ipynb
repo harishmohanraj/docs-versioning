{
 "cells": [
  {
   "cell_type": "code",
   "execution_count": null,
   "id": "3e1da83d",
   "metadata": {},
   "outputs": [],
   "source": [
    "# | default_exp _cli"
   ]
  },
  {
   "cell_type": "code",
   "execution_count": null,
   "id": "5db5616e",
   "metadata": {},
   "outputs": [],
   "source": [
    "# | export\n",
    "\n",
    "import subprocess\n",
    "from pathlib import Path\n",
    "from typing import *\n",
    "\n",
    "import typer"
   ]
  },
  {
   "cell_type": "code",
   "execution_count": null,
   "id": "49c7196c",
   "metadata": {},
   "outputs": [],
   "source": [
    "from typer.testing import CliRunner"
   ]
  },
  {
   "cell_type": "code",
   "execution_count": null,
   "id": "4e50b13c",
   "metadata": {},
   "outputs": [],
   "source": [
    "runner = CliRunner()"
   ]
  },
  {
   "cell_type": "code",
   "execution_count": null,
   "id": "9f4a7ec5",
   "metadata": {},
   "outputs": [],
   "source": [
    "# | export\n",
    "\n",
    "def _filter_rc_branches(all_branches: str) -> str:\n",
    "    return \"\\n\".join(\n",
    "        [\n",
    "            i.split(\" \")[0]\n",
    "            for i in all_branches.split(\"\\n\")\n",
    "            if i != \"\" and not i.split(\".\")[-1].split(\" \")[0].isdigit()\n",
    "        ]\n",
    "    )"
   ]
  },
  {
   "cell_type": "code",
   "execution_count": null,
   "id": "6167cce4",
   "metadata": {},
   "outputs": [
    {
     "name": "stdout",
     "output_type": "stream",
     "text": [
      "0.0.5rc10\n",
      "0.0.5dev\n",
      "0.0.5rc0\n"
     ]
    }
   ],
   "source": [
    "all_branches=\"0.0.5rc10 [dev]\\n0.0.5dev\\n0.0.5rc0\\n0.0.4 [latest]\\n0.0.3\\n0.0.2\\n0.0.1\\n\"\n",
    "expected='0.0.5rc10\\n0.0.5dev\\n0.0.5rc0'\n",
    "actual = _filter_rc_branches(all_branches)\n",
    "print(actual)\n",
    "assert actual == expected"
   ]
  },
  {
   "cell_type": "code",
   "execution_count": null,
   "id": "c603c2e2",
   "metadata": {},
   "outputs": [
    {
     "name": "stdout",
     "output_type": "stream",
     "text": [
      "\n"
     ]
    }
   ],
   "source": [
    "all_branches=\"0.0.4 [latest]\\n0.0.3\\n0.0.2\\n0.0.1\\n\"\n",
    "expected=''\n",
    "actual = _filter_rc_branches(all_branches)\n",
    "print(actual)\n",
    "assert actual == expected"
   ]
  },
  {
   "cell_type": "code",
   "execution_count": null,
   "id": "aa978052",
   "metadata": {},
   "outputs": [],
   "source": [
    "# | export\n",
    "\n",
    "def _get_version_numbers(all_versions: str) -> str:\n",
    "    return [v.split(\" \")[0] for v in all_versions.split(\"\\n\")]"
   ]
  },
  {
   "cell_type": "code",
   "execution_count": null,
   "id": "e099614a",
   "metadata": {},
   "outputs": [
    {
     "name": "stdout",
     "output_type": "stream",
     "text": [
      "['0.0.5rc10', '0.0.5dev', '0.0.5rc0']\n"
     ]
    }
   ],
   "source": [
    "all_versions='0.0.5rc10 [dev]\\n0.0.5dev\\n0.0.5rc0'\n",
    "expected = ['0.0.5rc10', '0.0.5dev', '0.0.5rc0']\n",
    "\n",
    "actual = _get_version_numbers(all_versions)\n",
    "print(actual)\n",
    "assert actual == expected"
   ]
  },
  {
   "cell_type": "code",
   "execution_count": null,
   "id": "3f549aa4",
   "metadata": {},
   "outputs": [],
   "source": [
    "# | export\n",
    "\n",
    "def _filter_exclustion_list(versions_to_delete: List[str], exclude: str) -> List[str]:\n",
    "    exclusion_list = [i.strip().split(\" \")[0] for i in exclude.split(\",\")]\n",
    "    return list(set(versions_to_delete) - set(exclusion_list))"
   ]
  },
  {
   "cell_type": "code",
   "execution_count": null,
   "id": "7544af14",
   "metadata": {},
   "outputs": [
    {
     "name": "stdout",
     "output_type": "stream",
     "text": [
      "[]\n",
      "['0.0.1rc0']\n"
     ]
    }
   ],
   "source": [
    "versions_to_delete = ['0.0.5rc1', '0.0.5rc0']\n",
    "exclude = \"0.0.5rc1 [dev], 0.0.5rc0 [old-dev]\"\n",
    "expected = []\n",
    "\n",
    "actual = _filter_exclustion_list(versions_to_delete, exclude)\n",
    "print(actual)\n",
    "assert actual == expected\n",
    "\n",
    "versions_to_delete = ['0.0.5rc1', '0.0.5rc0', '0.0.1rc0']\n",
    "exclude = \"0.0.5rc1 [dev], 0.0.5rc0 [old-dev]\"\n",
    "expected = ['0.0.1rc0']\n",
    "\n",
    "actual = _filter_exclustion_list(versions_to_delete, exclude)\n",
    "print(actual)\n",
    "assert actual == expected"
   ]
  },
  {
   "cell_type": "code",
   "execution_count": null,
   "id": "13da665c",
   "metadata": {},
   "outputs": [],
   "source": [
    "# | export\n",
    "\n",
    "def _add_git_args(cmd: list[str], rebase: bool, ignore: bool, prefix: str) -> List[str]:\n",
    "    if rebase: \n",
    "        cmd = cmd + [\"--rebase\"]\n",
    "    if ignore:\n",
    "        cmd = cmd + [\"--ignore\"]\n",
    "    if prefix:\n",
    "        cmd = cmd + [\"--prefix\", prefix]\n",
    "        \n",
    "    return cmd\n",
    "    "
   ]
  },
  {
   "cell_type": "code",
   "execution_count": null,
   "id": "82e638d0",
   "metadata": {},
   "outputs": [
    {
     "name": "stdout",
     "output_type": "stream",
     "text": [
      "['-b', 'branch', '--rebase', '--prefix', 'path']\n",
      "['-b', 'branch', '--ignore', '--prefix', 'path']\n",
      "['-b', 'branch', '--rebase', '--ignore']\n"
     ]
    }
   ],
   "source": [
    "cmd=[\"-b\", \"branch\"]\n",
    "rebase = True\n",
    "ignore = False\n",
    "prefix = \"path\"\n",
    "expected = [\"-b\", \"branch\", \"--rebase\", \"--prefix\", \"path\"]\n",
    "\n",
    "actual = _add_git_args(cmd, rebase, ignore, prefix)\n",
    "print(actual)\n",
    "assert actual == expected\n",
    "\n",
    "cmd=[\"-b\", \"branch\"]\n",
    "rebase = False\n",
    "ignore = True\n",
    "prefix = \"path\"\n",
    "expected = [\"-b\", \"branch\", \"--ignore\", \"--prefix\", \"path\"]\n",
    "\n",
    "actual = _add_git_args(cmd, rebase, ignore, prefix)\n",
    "print(actual)\n",
    "assert actual == expected\n",
    "\n",
    "cmd=[\"-b\", \"branch\"]\n",
    "rebase = True\n",
    "ignore = True\n",
    "prefix = None\n",
    "expected = [\"-b\", \"branch\", \"--rebase\", \"--ignore\"]\n",
    "\n",
    "actual = _add_git_args(cmd, rebase, ignore, prefix)\n",
    "print(actual)\n",
    "assert actual == expected"
   ]
  },
  {
   "cell_type": "code",
   "execution_count": null,
   "id": "ef7ae06a",
   "metadata": {},
   "outputs": [],
   "source": [
    "# | export\n",
    "\n",
    "_app = typer.Typer(help=\"\")\n",
    "\n",
    "@_app.command(\n",
    "    help=\"Delete the deployed release candidate documentations.\",\n",
    ")\n",
    "def delete_rc_docs(\n",
    "    branch: str = typer.Option(\n",
    "            \"gh-pages\",\n",
    "            \"--branch\",\n",
    "            \"-b\",\n",
    "            help='The branch name to commit to',\n",
    "        ),\n",
    "    remote: str = typer.Option(\n",
    "            \"origin\",\n",
    "            \"--remote\",\n",
    "            \"-r\",\n",
    "            help='The origin name to push to',\n",
    "        ),\n",
    "    config_file: str = typer.Option(\n",
    "            \"mkdocs/mkdocs.yml\",\n",
    "            \"--config-file\",\n",
    "            \"-F\",\n",
    "            help='The MkDocs configuration file to use',\n",
    "        ),\n",
    "    rebase: bool = typer.Option(\n",
    "            True,\n",
    "            help='Rebase with remote brancj',\n",
    "        ),\n",
    "    ignore: bool = typer.Option(\n",
    "            False,\n",
    "            help='Ignore remote status',\n",
    "        ),\n",
    "    prefix: str = typer.Option(\n",
    "            None,\n",
    "            \"--prefix\",\n",
    "            help='subdirectory within {branch} where docs are located',\n",
    "        ),\n",
    ") -> None:\n",
    "    \"\"\"Delete the deployed release candidate documentations.\"\"\"\n",
    "    try:\n",
    "        cmd = ['-b', branch, '-r', remote, '-F', config_file]\n",
    "        cmd = _add_git_args(cmd, rebase, ignore, prefix)\n",
    "        nl = \"\\n\"\n",
    "                \n",
    "        result = subprocess.run(['mike', 'list'] + cmd, stdout=subprocess.PIPE)\n",
    "        deployed_docs_list = result.stdout.decode('utf-8')\n",
    "        deployed_docs_list = _filter_rc_branches(deployed_docs_list)\n",
    "        \n",
    "        if deployed_docs_list == \"\":\n",
    "            typer.echo(\"No release candidate documentation versions have been deployed.\")\n",
    "            return\n",
    "        \n",
    "        typer.echo(f\"List of deployed release candidate documentation versions: \\n{deployed_docs_list}\\n\")        \n",
    "        option = typer.prompt(\"\\nSelect an option: \\n1. Delete all versions listed above \\n2. Retain some versions while deleting others \\n3. Abort\\n\\n\")\n",
    "        \n",
    "        if option == \"3\":\n",
    "            typer.echo(\"Aborted.\")\n",
    "            return\n",
    "        \n",
    "        versions_to_delete = _get_version_numbers(deployed_docs_list)\n",
    "        if option == \"2\":\n",
    "            while True:\n",
    "                exclude = typer.prompt(\"Enter the names of the versions to retain, separated by comma (eg: 1.0.0rc0, 1.0.0rc1)\")\n",
    "                versions_to_delete = _filter_exclustion_list(_get_version_numbers(deployed_docs_list), exclude)\n",
    "                typer.echo(f'Modified list of deployed release candidate documentation versions:\\n{nl.join(versions_to_delete)}')\n",
    "                delete = typer.confirm(\"Delete the above version(s)?\")\n",
    "                if delete:\n",
    "                    break\n",
    "            \n",
    "        if len(versions_to_delete) == 0:\n",
    "            typer.echo(\"No release candidate documentation version found to delete.\")\n",
    "        else:\n",
    "            cmd = versions_to_delete + ['-b', branch, '-r', remote, '-F', config_file, '--push', '--force']\n",
    "            cmd = _add_git_args(cmd, rebase, ignore, prefix)\n",
    "\n",
    "            result = subprocess.run(['mike', 'delete'] + cmd, stdout=subprocess.PIPE)\n",
    "            if result.returncode == 0:\n",
    "                typer.echo(f\"\\nSuccessfully deleted the below version(s):\\n{nl.join(versions_to_delete)}\")\n",
    "        \n",
    "    except Exception as e:\n",
    "        typer.secho(f\"Unexpected internal error: {e}\", err=True, fg=typer.colors.RED)\n",
    "        raise typer.Exit(1)"
   ]
  },
  {
   "cell_type": "code",
   "execution_count": null,
   "id": "f1e43817",
   "metadata": {},
   "outputs": [
    {
     "name": "stdout",
     "output_type": "stream",
     "text": [
      "List of deployed release candidate documentation versions: \n",
      "0.0.5rc1\n",
      "0.0.5rc0\n",
      "\n",
      "\n",
      "Select an option: \n",
      "1. Delete all versions listed above \n",
      "2. Retain some versions while deleting others \n",
      "3. Abort\n",
      "\n",
      ": 3\n",
      "Aborted.\n",
      "\n"
     ]
    }
   ],
   "source": [
    "result = runner.invoke(_app, input=\"3\")\n",
    "print(result.stdout)\n",
    "assert result.exit_code == 0, result.exit_code"
   ]
  }
 ],
 "metadata": {
  "kernelspec": {
   "display_name": "Python 3 (ipykernel)",
   "language": "python",
   "name": "python3"
  }
 },
 "nbformat": 4,
 "nbformat_minor": 5
}
